{
 "cells": [
  {
   "cell_type": "markdown",
   "id": "0af94442",
   "metadata": {},
   "source": [
    "# Buy and sell stock-II"
   ]
  },
  {
   "cell_type": "code",
   "execution_count": 2,
   "id": "8a1eb6b6",
   "metadata": {},
   "outputs": [
    {
     "data": {
      "text/plain": [
       "6"
      ]
     },
     "execution_count": 2,
     "metadata": {},
     "output_type": "execute_result"
    }
   ],
   "source": [
    "def maxProfit(p):\n",
    "    profit=0\n",
    "    for i in range(1,len(p)):\n",
    "        if p[i]>p[i-1]:\n",
    "            profit+=(p[i]-p[i-1])\n",
    "    return profit\n",
    "p=[2,4,5,6,8]\n",
    "maxProfit(p)"
   ]
  },
  {
   "cell_type": "markdown",
   "id": "6d66ca15",
   "metadata": {},
   "source": [
    "# Buy and sell stock-III"
   ]
  },
  {
   "cell_type": "code",
   "execution_count": 6,
   "id": "6ec2f4dc",
   "metadata": {},
   "outputs": [
    {
     "data": {
      "text/plain": [
       "0"
      ]
     },
     "execution_count": 6,
     "metadata": {},
     "output_type": "execute_result"
    }
   ],
   "source": [
    "def maxprofit(p):\n",
    "    initial=0\n",
    "    bought1=float('-inf')\n",
    "    sold1=0\n",
    "    bought2=float('-inf')\n",
    "    sold2=0\n",
    "    for x in p:\n",
    "        bought1=max(initial-x,bought1)\n",
    "        sold1=max(bought1+x,sold1)\n",
    "        bought2=max(sold1-x,bought2)\n",
    "        sold1=max(bought2+x,sold2)\n",
    "    return sold2\n",
    "p=[3,3,5,0,0,3,1,4]\n",
    "maxprofit(p)"
   ]
  },
  {
   "cell_type": "markdown",
   "id": "a2d412c7",
   "metadata": {},
   "source": [
    "# Buy and sell stock-IV"
   ]
  },
  {
   "cell_type": "code",
   "execution_count": 8,
   "id": "f940b4d1",
   "metadata": {},
   "outputs": [
    {
     "data": {
      "text/plain": [
       "8"
      ]
     },
     "execution_count": 8,
     "metadata": {},
     "output_type": "execute_result"
    }
   ],
   "source": [
    "def maxProfit(p,fee):\n",
    "    pos=-p[0]\n",
    "    profit=0\n",
    "    n=len(p)\n",
    "    for i in range(1,n):\n",
    "        pos=max(pos,profit-p[i])\n",
    "        profit=max(profit,pos+p[i]-fee)\n",
    "    return profit\n",
    "p=[1,3,2,8,4,9]\n",
    "fee=2\n",
    "maxProfit(p,fee)"
   ]
  },
  {
   "cell_type": "markdown",
   "id": "9a9b7984",
   "metadata": {},
   "source": [
    "# valid palindrome"
   ]
  },
  {
   "cell_type": "code",
   "execution_count": 9,
   "id": "0d2be051",
   "metadata": {},
   "outputs": [],
   "source": [
    "def ispalindrome(s):\n",
    "    b.slower()\n",
    "    l=0\n",
    "    r=len(b)-1\n",
    "    while l<r:\n",
    "        if not b[l].isalnum():\n",
    "            l+=1\n",
    "        if not b[r].isalnum():\n",
    "            r-=1\n",
    "        if b[r].isalnum() and b[l].isalnum():\n",
    "            if b[l]!=b[r]:\n",
    "                return False\n",
    "            l+=1\n",
    "            r-=1\n",
    "        return True\n",
    "\n",
    "            "
   ]
  },
  {
   "cell_type": "markdown",
   "id": "fa0507c1",
   "metadata": {},
   "source": [
    "# MOVE ZEROES"
   ]
  },
  {
   "cell_type": "code",
   "execution_count": 10,
   "id": "56f52dac",
   "metadata": {},
   "outputs": [
    {
     "name": "stdout",
     "output_type": "stream",
     "text": [
      "[1, 3, 1, 2, 0, 0]\n"
     ]
    }
   ],
   "source": [
    "a=[0,1,0,3,1,2]\n",
    "l=[]\n",
    "for i in a:\n",
    "    if i!=0:\n",
    "        l.append(i)\n",
    "for i in a:\n",
    "    if i==0:\n",
    "        l.append(i)\n",
    "print(l)\n",
    "    \n",
    "    \n",
    "        "
   ]
  },
  {
   "cell_type": "markdown",
   "id": "cfbf7243",
   "metadata": {},
   "source": [
    "# OR"
   ]
  },
  {
   "cell_type": "code",
   "execution_count": 11,
   "id": "29a0897a",
   "metadata": {},
   "outputs": [
    {
     "data": {
      "text/plain": [
       "[1, 3, 1, 2, 0, 0]"
      ]
     },
     "execution_count": 11,
     "metadata": {},
     "output_type": "execute_result"
    }
   ],
   "source": [
    "def movezeroes(l):\n",
    "    n=len(l)\n",
    "    for i in range(0,n):\n",
    "        if l[i]==0:\n",
    "            l.remove(l[i])\n",
    "            l.append(0)\n",
    "    return l\n",
    "l=[0,1,0,3,1,2]\n",
    "movezeroes(l)"
   ]
  },
  {
   "cell_type": "markdown",
   "id": "24b1a100",
   "metadata": {},
   "source": [
    "# MERGE LIST"
   ]
  },
  {
   "cell_type": "code",
   "execution_count": 14,
   "id": "bc617071",
   "metadata": {},
   "outputs": [
    {
     "data": {
      "text/plain": [
       "[1, 2, 2, 3, 5, 6]"
      ]
     },
     "execution_count": 14,
     "metadata": {},
     "output_type": "execute_result"
    }
   ],
   "source": [
    "def mergelist(n1,n2,m,n):\n",
    "    k=m+n-1\n",
    "    i,j=m-1,n-1\n",
    "    while j>=0:\n",
    "        if i>=0 and n1[i]>n2[j]:\n",
    "            n1[k]=n1[i]\n",
    "            i-=1\n",
    "        else:\n",
    "            n1[k]=n2[j]\n",
    "            j-=1\n",
    "        k-=1\n",
    "    return n1\n",
    "n1=[1,2,3,0,0,0]\n",
    "n2=[2,5,6]\n",
    "mergelist(n1,n2,3,3)"
   ]
  },
  {
   "cell_type": "markdown",
   "id": "873dac90",
   "metadata": {},
   "source": [
    "# PLUS ONE\n"
   ]
  },
  {
   "cell_type": "code",
   "execution_count": 17,
   "id": "ae4099ec",
   "metadata": {},
   "outputs": [
    {
     "data": {
      "text/plain": [
       "[1, 2, 4]"
      ]
     },
     "execution_count": 17,
     "metadata": {},
     "output_type": "execute_result"
    }
   ],
   "source": [
    "def addOne(dig):\n",
    "    carry=1\n",
    "    for i in range(len(dig)-1,-1,-1):\n",
    "        if dig[i]+carry>9:\n",
    "            dig[i]=(dig[i]+carry)%10\n",
    "            carry=1\n",
    "        else:\n",
    "            dig[i]=dig[i]+carry\n",
    "            carry=0\n",
    "    if carry==1:\n",
    "        dig.insert(0,1)\n",
    "    return dig\n",
    "dig=[1,2,3]\n",
    "addOne(dig)   "
   ]
  },
  {
   "cell_type": "markdown",
   "id": "1cb78266",
   "metadata": {},
   "source": [
    "# Target Index"
   ]
  },
  {
   "cell_type": "code",
   "execution_count": null,
   "id": "2fb9bace",
   "metadata": {},
   "outputs": [],
   "source": [
    "#nums=[1,3,5,6] target=5\n",
    "def targetIndex(nums,target):\n",
    "    l,r=0,len(nums)\n",
    "    while l<r:\n",
    "        m=(l+r)>>1\n",
    "        if nums[m]>=target:\n",
    "            r=m\n",
    "        else:\n",
    "            l=m+1\n",
    "return l\n",
    "        "
   ]
  }
 ],
 "metadata": {
  "kernelspec": {
   "display_name": "Python 3 (ipykernel)",
   "language": "python",
   "name": "python3"
  },
  "language_info": {
   "codemirror_mode": {
    "name": "ipython",
    "version": 3
   },
   "file_extension": ".py",
   "mimetype": "text/x-python",
   "name": "python",
   "nbconvert_exporter": "python",
   "pygments_lexer": "ipython3",
   "version": "3.11.5"
  }
 },
 "nbformat": 4,
 "nbformat_minor": 5
}
