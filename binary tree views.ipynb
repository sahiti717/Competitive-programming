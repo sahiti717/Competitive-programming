{
 "cells": [
  {
   "cell_type": "markdown",
   "id": "7a38ff93",
   "metadata": {},
   "source": [
    "# Top view of binary tree"
   ]
  },
  {
   "cell_type": "code",
   "execution_count": 1,
   "id": "261746f8",
   "metadata": {},
   "outputs": [
    {
     "name": "stdout",
     "output_type": "stream",
     "text": [
      "top view\n",
      "8 4 2 1 3 7 "
     ]
    }
   ],
   "source": [
    "class Node:\n",
    "    def __init__(self,d):\n",
    "        self.lc=None\n",
    "        self.d=d\n",
    "        self.rc=None\n",
    "        self.hd=0\n",
    "def topview(root):\n",
    "    m={}\n",
    "    q=[]\n",
    "    q.append(root)\n",
    "    while len(q)>0:\n",
    "        node=q.pop(0)\n",
    "        if node.hd not in m:\n",
    "            m[node.hd]=node.d #ans\n",
    "        if node.lc:\n",
    "            node.lc.hd=node.hd-1\n",
    "            q.append(node.lc)\n",
    "        if node.rc:\n",
    "            node.rc.hd=node.hd+1\n",
    "            q.append(node.rc)\n",
    "    print(\"top view\")\n",
    "    for k in sorted(m):\n",
    "        print(m[k],end=\" \")\n",
    "if __name__==\"__main__\":\n",
    "    root=Node(1)\n",
    "    root.lc=Node(2)\n",
    "    root.rc=Node(3)\n",
    "    root.lc.lc=Node(4)\n",
    "    root.lc.rc=Node(5)\n",
    "    root.rc.lc=Node(6)\n",
    "    root.rc.rc=Node(7)\n",
    "    root.lc.lc.lc=Node(8)\n",
    "    root.lc.lc.rc=Node(9)\n",
    "    topview(root)\n",
    "        "
   ]
  },
  {
   "cell_type": "markdown",
   "id": "6cf62958",
   "metadata": {},
   "source": [
    "# Bottom View of Binary Tree"
   ]
  },
  {
   "cell_type": "code",
   "execution_count": 2,
   "id": "c1956569",
   "metadata": {},
   "outputs": [
    {
     "name": "stdout",
     "output_type": "stream",
     "text": [
      "top view\n",
      "8 4 9 6 3 7 "
     ]
    }
   ],
   "source": [
    "class Node:\n",
    "    def __init__(self,d):\n",
    "        self.lc=None\n",
    "        self.d=d\n",
    "        self.rc=None\n",
    "        self.hd=0\n",
    "def bottomview(root):\n",
    "    m={}\n",
    "    q=[]\n",
    "    q.append(root)\n",
    "    while len(q)>0:\n",
    "        node=q.pop(0)\n",
    "        #if node.hd not in m:\n",
    "        m[node.hd]=node.d\n",
    "        if node.lc:\n",
    "            node.lc.hd=node.hd-1\n",
    "            q.append(node.lc)\n",
    "        if node.rc:\n",
    "            node.rc.hd=node.hd+1\n",
    "            q.append(node.rc)\n",
    "    print(\"top view\")\n",
    "    for k in sorted(m):\n",
    "        print(m[k],end=\" \")\n",
    "if __name__==\"__main__\":\n",
    "    root=Node(1)\n",
    "    root.lc=Node(2)\n",
    "    root.rc=Node(3)\n",
    "    root.lc.lc=Node(4)\n",
    "    root.lc.rc=Node(5)\n",
    "    root.rc.lc=Node(6)\n",
    "    root.rc.rc=Node(7)\n",
    "    root.lc.lc.lc=Node(8)\n",
    "    root.lc.lc.rc=Node(9)\n",
    "    bottomview(root)"
   ]
  },
  {
   "cell_type": "code",
   "execution_count": null,
   "id": "8eef98f9",
   "metadata": {},
   "outputs": [],
   "source": []
  }
 ],
 "metadata": {
  "kernelspec": {
   "display_name": "Python 3 (ipykernel)",
   "language": "python",
   "name": "python3"
  },
  "language_info": {
   "codemirror_mode": {
    "name": "ipython",
    "version": 3
   },
   "file_extension": ".py",
   "mimetype": "text/x-python",
   "name": "python",
   "nbconvert_exporter": "python",
   "pygments_lexer": "ipython3",
   "version": "3.11.5"
  }
 },
 "nbformat": 4,
 "nbformat_minor": 5
}
